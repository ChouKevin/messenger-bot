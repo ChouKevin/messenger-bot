{
 "cells": [
  {
   "cell_type": "code",
   "execution_count": 1,
   "metadata": {
    "collapsed": true
   },
   "outputs": [],
   "source": [
    "from mongoengine import *\n",
    "from mongoengine.fields import *\n",
    "from settings import db_config\n",
    "import model.restaurant as r_model"
   ]
  },
  {
   "cell_type": "code",
   "execution_count": 30,
   "metadata": {
    "collapsed": true
   },
   "outputs": [],
   "source": [
    "class RestaurantQuerySet(QuerySet):\n",
    "    def search_by_avgCost(self, address, min_cost=0, max_cost=100, meter = 500):\n",
    "        return self.filter(Q(avgCost__in=range(min_cost, max_cost+1)) \n",
    "                           & Q(address__near=list(address), address__max_distance=meter))\n",
    "    def search_by_name(self, name):\n",
    "        return self.filter(name=name)\n",
    "    def search_by_id(self, rid):\n",
    "        return self.filter(rid=rid)\n",
    "    def search_by_address(self, address, order_by='', meter = 500):\n",
    "        return self.filter(address__near=list(location), address__max_distance=meter)\n",
    "    def search_by_catelog(self, address, catelog, meter = 500):\n",
    "        return self.filter(Q(classify=catelog)\n",
    "                            & Q(address__near=list(address), address__max_distance=meter))\n",
    "    def list_cate(self):\n",
    "        return self.distinct('classify')\n",
    "class Restaurant(Document):\n",
    "    meta = {\n",
    "        'collection': 'restaurant',\n",
    "        'queryset_class': RestaurantQuerySet,\n",
    "        'strict': False,\n",
    "    }\n",
    "    environmentRate = FloatField(min_value=0)\n",
    "    serviceRate = FloatField(min_value=0)\n",
    "    tasteRate = FloatField(min_value=0)\n",
    "    classify = StringField(required=True)\n",
    "    avgCost = IntField(min_value=0)\n",
    "    address = StringField(required=True)\n",
    "    hours = ListField()\n",
    "    name = StringField(required=True)\n",
    "    rid = LongField(required=True)"
   ]
  },
  {
   "cell_type": "code",
   "execution_count": 3,
   "metadata": {
    "collapsed": true
   },
   "outputs": [],
   "source": [
    "def string_to_point(str_point):\n",
    "    try:\n",
    "        point = list(reversed([float(x) for x in str_point.split(',')]))\n",
    "    except ValueError:\n",
    "        print(str_point, '---------------------------value error------------------------')\n",
    "        point = None\n",
    "    except AttributeError:\n",
    "        print(str_point, '---------------------------attribute error------------------------')\n",
    "        point = None\n",
    "    return point"
   ]
  },
  {
   "cell_type": "code",
   "execution_count": 4,
   "metadata": {
    "collapsed": true
   },
   "outputs": [],
   "source": [
    "# update address to point type\n",
    "for i in Restaurant.objects:\n",
    "    for r in Restaurant.objects(rid=i.rid):\n",
    "        point = string_to_point(r.address)\n",
    "        if point is not None:\n",
    "            print(point)\n",
    "            i.update(address=point)"
   ]
  },
  {
   "cell_type": "code",
   "execution_count": 5,
   "metadata": {
    "collapsed": true
   },
   "outputs": [],
   "source": [
    "# reverse list to [longitude, latitude]\n",
    "for i in Restaurant.objects:\n",
    "    tmp = i.address['coordinates']\n",
    "    tmp = list(reversed(tmp))\n",
    "    i.update(address=tmp)"
   ]
  },
  {
   "cell_type": "code",
   "execution_count": 36,
   "metadata": {
    "scrolled": true
   },
   "outputs": [
    {
     "name": "stdout",
     "output_type": "stream",
     "text": [
      "<class 'int'>\n",
      "<class 'int'>\n",
      "<class 'int'>\n",
      "<class 'int'>\n"
     ]
    }
   ],
   "source": [
    "# for i in Restaurant.objects:\n",
    "#     print(i..search_by_address((121.56008359778, 25.080193176667)))\n",
    "for i in r_model.Restaurant.objects.search_by_address(location=(121.56008359778, 25.080193176667), \n",
    "                                                     meter=100):\n",
    "    print(type(i.avgCost))"
   ]
  },
  {
   "cell_type": "code",
   "execution_count": 37,
   "metadata": {
    "collapsed": true
   },
   "outputs": [],
   "source": [
    "# for i in Restaurant.objects.search_by_catelog((121.56008359778, 25.080193176667), cate, meter=500):\n",
    "#     print(i.classify)"
   ]
  },
  {
   "cell_type": "code",
   "execution_count": 39,
   "metadata": {},
   "outputs": [
    {
     "ename": "NameError",
     "evalue": "name 'datetime' is not defined",
     "output_type": "error",
     "traceback": [
      "\u001b[0;31m---------------------------------------------------------------------------\u001b[0m",
      "\u001b[0;31mNameError\u001b[0m                                 Traceback (most recent call last)",
      "\u001b[0;32m<ipython-input-39-6bab1f09a740>\u001b[0m in \u001b[0;36m<module>\u001b[0;34m()\u001b[0m\n\u001b[0;32m----> 1\u001b[0;31m \u001b[0mdatetime\u001b[0m\u001b[0;34m\u001b[0m\u001b[0m\n\u001b[0m",
      "\u001b[0;31mNameError\u001b[0m: name 'datetime' is not defined"
     ]
    }
   ],
   "source": []
  }
 ],
 "metadata": {
  "kernelspec": {
   "display_name": "Python 3",
   "language": "python",
   "name": "python3"
  },
  "language_info": {
   "codemirror_mode": {
    "name": "ipython",
    "version": 3
   },
   "file_extension": ".py",
   "mimetype": "text/x-python",
   "name": "python",
   "nbconvert_exporter": "python",
   "pygments_lexer": "ipython3",
   "version": "3.5.2"
  }
 },
 "nbformat": 4,
 "nbformat_minor": 2
}
