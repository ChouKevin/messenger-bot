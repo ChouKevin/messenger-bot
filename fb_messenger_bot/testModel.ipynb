{
 "cells": [
  {
   "cell_type": "code",
   "execution_count": 1,
   "metadata": {
    "collapsed": true
   },
   "outputs": [],
   "source": [
    "from mongoengine import *\n",
    "from mongoengine.fields import *\n",
    "from settings import db_config\n",
    "import model.restaurant as r_model\n",
    "import model.restaurantImage as r_image"
   ]
  },
  {
   "cell_type": "code",
   "execution_count": 2,
   "metadata": {
    "collapsed": true
   },
   "outputs": [],
   "source": [
    "# def string_to_point(str_point):\n",
    "#     try:\n",
    "#         point = list(reversed([float(x) for x in str_point.split(',')]))\n",
    "#     except ValueError:\n",
    "#         print(str_point, '---------------------------value error------------------------')\n",
    "#         point = None\n",
    "#     except AttributeError:\n",
    "#         print(str_point, '---------------------------attribute error------------------------')\n",
    "#         point = None\n",
    "#     return point"
   ]
  },
  {
   "cell_type": "code",
   "execution_count": 3,
   "metadata": {},
   "outputs": [],
   "source": [
    "# # update address to point type\n",
    "# for i in Restaurant.objects:\n",
    "#     for r in Restaurant.objects(rid=i.rid):\n",
    "#         point = string_to_point(r.address)\n",
    "#         if point is not None:\n",
    "#             print(point)\n",
    "#             i.update(address=point)"
   ]
  },
  {
   "cell_type": "code",
   "execution_count": 4,
   "metadata": {
    "collapsed": true
   },
   "outputs": [],
   "source": [
    "# # reverse list to [longitude, latitude]\n",
    "# for i in Restaurant.objects:\n",
    "#     tmp = i.address['coordinates']\n",
    "#     tmp = list(reversed(tmp))\n",
    "#     i.update(address=tmp)"
   ]
  },
  {
   "cell_type": "code",
   "execution_count": 5,
   "metadata": {
    "scrolled": true
   },
   "outputs": [
    {
     "name": "stdout",
     "output_type": "stream",
     "text": [
      "<class 'int'>\n",
      "<class 'int'>\n",
      "<class 'int'>\n",
      "<class 'int'>\n"
     ]
    }
   ],
   "source": [
    "# for i in Restaurant.objects:\n",
    "#     print(i..search_by_address((121.56008359778, 25.080193176667)))\n",
    "for i in r_model.Restaurant.objects.search_by_address(address=(121.56008359778, 25.080193176667), \n",
    "                                                     meter=100):\n",
    "    print(type(i.avgCost))"
   ]
  },
  {
   "cell_type": "code",
   "execution_count": 6,
   "metadata": {
    "collapsed": true
   },
   "outputs": [],
   "source": [
    "# for i in Restaurant.objects.search_by_catelog((121.56008359778, 25.080193176667), cate, meter=500):\n",
    "#     print(i.classify)"
   ]
  },
  {
   "cell_type": "code",
   "execution_count": 7,
   "metadata": {},
   "outputs": [],
   "source": [
    "tmp = r_image.RestaurantImage.objects.search_by_rid(\"67012\")"
   ]
  },
  {
   "cell_type": "code",
   "execution_count": 9,
   "metadata": {},
   "outputs": [
    {
     "data": {
      "text/plain": [
       "'http://iphoto.ipeen.com.tw/photo/ipeen/140x140/def/6/9/4/538496/538496_20130930214519_3333.jpg'"
      ]
     },
     "execution_count": 9,
     "metadata": {},
     "output_type": "execute_result"
    }
   ],
   "source": [
    "tmp.url"
   ]
  }
 ],
 "metadata": {
  "kernelspec": {
   "display_name": "Python 3",
   "language": "python",
   "name": "python3"
  },
  "language_info": {
   "codemirror_mode": {
    "name": "ipython",
    "version": 3
   },
   "file_extension": ".py",
   "mimetype": "text/x-python",
   "name": "python",
   "nbconvert_exporter": "python",
   "pygments_lexer": "ipython3",
   "version": "3.5.2"
  }
 },
 "nbformat": 4,
 "nbformat_minor": 2
}
